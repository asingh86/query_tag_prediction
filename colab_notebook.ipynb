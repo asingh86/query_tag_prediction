{
  "nbformat": 4,
  "nbformat_minor": 0,
  "metadata": {
    "accelerator": "TPU",
    "colab": {
      "name": "Untitled19.ipynb",
      "provenance": []
    },
    "kernelspec": {
      "display_name": "Python 3",
      "name": "python3"
    },
    "language_info": {
      "name": "python"
    }
  },
  "cells": [
    {
      "cell_type": "markdown",
      "metadata": {
        "id": "mZT3Gj0ut_P3"
      },
      "source": [
        "##Query Tag Prediction \n",
        "The aim of this project is to predict 'tag1' given a customer query."
      ]
    },
    {
      "cell_type": "code",
      "metadata": {
        "colab": {
          "base_uri": "https://localhost:8080/"
        },
        "id": "orwukO92novj",
        "outputId": "1238f648-2f8e-45bc-d4b9-d03863d6b692"
      },
      "source": [
        "!git clone https://github.com/asingh86/query_tag_prediction.git"
      ],
      "execution_count": 1,
      "outputs": [
        {
          "output_type": "stream",
          "text": [
            "Cloning into 'query_tag_prediction'...\n",
            "remote: Enumerating objects: 144, done.\u001b[K\n",
            "remote: Counting objects: 100% (144/144), done.\u001b[K\n",
            "remote: Compressing objects: 100% (87/87), done.\u001b[K\n",
            "remote: Total 144 (delta 67), reused 101 (delta 36), pack-reused 0\u001b[K\n",
            "Receiving objects: 100% (144/144), 516.18 KiB | 5.21 MiB/s, done.\n",
            "Resolving deltas: 100% (67/67), done.\n"
          ],
          "name": "stdout"
        }
      ]
    },
    {
      "cell_type": "code",
      "metadata": {
        "id": "Hf4Ck0PW3Qrr",
        "colab": {
          "base_uri": "https://localhost:8080/"
        },
        "outputId": "514ef289-254a-412b-a6a6-45cf0caa5f5f"
      },
      "source": [
        "#change working directory\n",
        "import os\n",
        "os.chdir('query_tag_prediction')\n",
        "os.listdir()"
      ],
      "execution_count": 1,
      "outputs": [
        {
          "output_type": "execute_result",
          "data": {
            "text/plain": [
              "['model_files',\n",
              " 'README.md',\n",
              " 'colab_notebook.ipynb',\n",
              " 'images',\n",
              " 'utils',\n",
              " '__pycache__',\n",
              " 'colab_requirements.txt',\n",
              " 'app.py',\n",
              " 'data',\n",
              " '.git',\n",
              " '.idea',\n",
              " 'model',\n",
              " 'local_notebook.ipynb',\n",
              " 'transformer.py',\n",
              " 'requirements.txt',\n",
              " 'configs',\n",
              " '.ipynb_checkpoints',\n",
              " '.gitignore']"
            ]
          },
          "metadata": {
            "tags": []
          },
          "execution_count": 1
        }
      ]
    },
    {
      "cell_type": "markdown",
      "metadata": {
        "id": "2tlvEzZRuFKq"
      },
      "source": [
        "We need manually create 2 folders in this directory:\n",
        "\n",
        "1. 'data' - This folder contains raw data and the 'anonymous labeled conversations.json' needs to be manually uploaded in here.\n",
        "2. 'model_files' - This folder will contain the saved model and history file.\n",
        "and install the below requirements"
      ]
    },
    {
      "cell_type": "code",
      "metadata": {
        "colab": {
          "base_uri": "https://localhost:8080/",
          "height": 1000
        },
        "id": "xkwWp3az2tsZ",
        "outputId": "10653ef6-9241-420c-ab92-dcf67786e0a9"
      },
      "source": [
        "pip install -r colab_requirements.txt"
      ],
      "execution_count": 4,
      "outputs": [
        {
          "output_type": "stream",
          "text": [
            "Requirement already satisfied: pandas>=1.1.0 in /usr/local/lib/python3.7/dist-packages (from -r colab_requirements.txt (line 1)) (1.1.5)\n",
            "Requirement already satisfied: numpy>=1.17.3 in /usr/local/lib/python3.7/dist-packages (from -r colab_requirements.txt (line 2)) (1.19.5)\n",
            "Collecting jupyterlab==3.1.1\n",
            "  Downloading jupyterlab-3.1.1-py3-none-any.whl (8.6 MB)\n",
            "\u001b[K     |████████████████████████████████| 8.6 MB 4.5 MB/s \n",
            "\u001b[?25hCollecting jupyter-resource-usage==0.6.0\n",
            "  Downloading jupyter_resource_usage-0.6.0-py2.py3-none-any.whl (42 kB)\n",
            "\u001b[K     |████████████████████████████████| 42 kB 733 kB/s \n",
            "\u001b[?25hCollecting nltk==3.6.1\n",
            "  Downloading nltk-3.6.1-py3-none-any.whl (1.5 MB)\n",
            "\u001b[K     |████████████████████████████████| 1.5 MB 64.7 MB/s \n",
            "\u001b[?25hCollecting demoji==1.0.0\n",
            "  Downloading demoji-1.0.0-py3-none-any.whl (41 kB)\n",
            "\u001b[K     |████████████████████████████████| 41 kB 406 kB/s \n",
            "\u001b[?25hCollecting pyyaml==5.4.1\n",
            "  Downloading PyYAML-5.4.1-cp37-cp37m-manylinux1_x86_64.whl (636 kB)\n",
            "\u001b[K     |████████████████████████████████| 636 kB 47.9 MB/s \n",
            "\u001b[?25hRequirement already satisfied: tensorflow==2.5.0 in /usr/local/lib/python3.7/dist-packages (from -r colab_requirements.txt (line 8)) (2.5.0)\n",
            "Requirement already satisfied: keras==2.4.3 in /usr/local/lib/python3.7/dist-packages (from -r colab_requirements.txt (line 9)) (2.4.3)\n",
            "Collecting scikit-learn==0.24.2\n",
            "  Downloading scikit_learn-0.24.2-cp37-cp37m-manylinux2010_x86_64.whl (22.3 MB)\n",
            "\u001b[K     |████████████████████████████████| 22.3 MB 1.5 MB/s \n",
            "\u001b[?25hRequirement already satisfied: tensorflow-hub==0.12.0 in /usr/local/lib/python3.7/dist-packages (from -r colab_requirements.txt (line 11)) (0.12.0)\n",
            "Collecting tensorflow-text==2.5.0\n",
            "  Downloading tensorflow_text-2.5.0-cp37-cp37m-manylinux1_x86_64.whl (4.3 MB)\n",
            "\u001b[K     |████████████████████████████████| 4.3 MB 52.0 MB/s \n",
            "\u001b[?25hCollecting pydot==1.4.2\n",
            "  Downloading pydot-1.4.2-py2.py3-none-any.whl (21 kB)\n",
            "Collecting graphviz==0.17\n",
            "  Downloading graphviz-0.17-py3-none-any.whl (18 kB)\n",
            "Collecting matplotlib==3.0.2\n",
            "  Downloading matplotlib-3.0.2-cp37-cp37m-manylinux1_x86_64.whl (12.9 MB)\n",
            "\u001b[K     |████████████████████████████████| 12.9 MB 36 kB/s \n",
            "\u001b[?25hCollecting tornado>=6.1.0\n",
            "  Downloading tornado-6.1-cp37-cp37m-manylinux2010_x86_64.whl (428 kB)\n",
            "\u001b[K     |████████████████████████████████| 428 kB 68.2 MB/s \n",
            "\u001b[?25hRequirement already satisfied: jupyter-core in /usr/local/lib/python3.7/dist-packages (from jupyterlab==3.1.1->-r colab_requirements.txt (line 3)) (4.7.1)\n",
            "Requirement already satisfied: jinja2>=2.1 in /usr/local/lib/python3.7/dist-packages (from jupyterlab==3.1.1->-r colab_requirements.txt (line 3)) (2.11.3)\n",
            "Collecting nbclassic~=0.2\n",
            "  Downloading nbclassic-0.3.1-py3-none-any.whl (18 kB)\n",
            "Requirement already satisfied: ipython in /usr/local/lib/python3.7/dist-packages (from jupyterlab==3.1.1->-r colab_requirements.txt (line 3)) (5.5.0)\n",
            "Collecting jupyter-server~=1.4\n",
            "  Downloading jupyter_server-1.10.2-py3-none-any.whl (392 kB)\n",
            "\u001b[K     |████████████████████████████████| 392 kB 62.8 MB/s \n",
            "\u001b[?25hCollecting jupyterlab-server~=2.3\n",
            "  Downloading jupyterlab_server-2.7.0-py3-none-any.whl (55 kB)\n",
            "\u001b[K     |████████████████████████████████| 55 kB 3.0 MB/s \n",
            "\u001b[?25hRequirement already satisfied: packaging in /usr/local/lib/python3.7/dist-packages (from jupyterlab==3.1.1->-r colab_requirements.txt (line 3)) (21.0)\n",
            "Collecting psutil>=5.6.0\n",
            "  Downloading psutil-5.8.0-cp37-cp37m-manylinux2010_x86_64.whl (296 kB)\n",
            "\u001b[K     |████████████████████████████████| 296 kB 60.6 MB/s \n",
            "\u001b[?25hRequirement already satisfied: prometheus-client in /usr/local/lib/python3.7/dist-packages (from jupyter-resource-usage==0.6.0->-r colab_requirements.txt (line 4)) (0.11.0)\n",
            "Requirement already satisfied: regex in /usr/local/lib/python3.7/dist-packages (from nltk==3.6.1->-r colab_requirements.txt (line 5)) (2019.12.20)\n",
            "Requirement already satisfied: joblib in /usr/local/lib/python3.7/dist-packages (from nltk==3.6.1->-r colab_requirements.txt (line 5)) (1.0.1)\n",
            "Requirement already satisfied: tqdm in /usr/local/lib/python3.7/dist-packages (from nltk==3.6.1->-r colab_requirements.txt (line 5)) (4.41.1)\n",
            "Requirement already satisfied: click in /usr/local/lib/python3.7/dist-packages (from nltk==3.6.1->-r colab_requirements.txt (line 5)) (7.1.2)\n",
            "Requirement already satisfied: wrapt~=1.12.1 in /usr/local/lib/python3.7/dist-packages (from tensorflow==2.5.0->-r colab_requirements.txt (line 8)) (1.12.1)\n",
            "Requirement already satisfied: absl-py~=0.10 in /usr/local/lib/python3.7/dist-packages (from tensorflow==2.5.0->-r colab_requirements.txt (line 8)) (0.12.0)\n",
            "Requirement already satisfied: tensorboard~=2.5 in /usr/local/lib/python3.7/dist-packages (from tensorflow==2.5.0->-r colab_requirements.txt (line 8)) (2.5.0)\n",
            "Requirement already satisfied: grpcio~=1.34.0 in /usr/local/lib/python3.7/dist-packages (from tensorflow==2.5.0->-r colab_requirements.txt (line 8)) (1.34.1)\n",
            "Requirement already satisfied: opt-einsum~=3.3.0 in /usr/local/lib/python3.7/dist-packages (from tensorflow==2.5.0->-r colab_requirements.txt (line 8)) (3.3.0)\n",
            "Requirement already satisfied: wheel~=0.35 in /usr/local/lib/python3.7/dist-packages (from tensorflow==2.5.0->-r colab_requirements.txt (line 8)) (0.36.2)\n",
            "Requirement already satisfied: keras-preprocessing~=1.1.2 in /usr/local/lib/python3.7/dist-packages (from tensorflow==2.5.0->-r colab_requirements.txt (line 8)) (1.1.2)\n",
            "Requirement already satisfied: tensorflow-estimator<2.6.0,>=2.5.0rc0 in /usr/local/lib/python3.7/dist-packages (from tensorflow==2.5.0->-r colab_requirements.txt (line 8)) (2.5.0)\n",
            "Requirement already satisfied: astunparse~=1.6.3 in /usr/local/lib/python3.7/dist-packages (from tensorflow==2.5.0->-r colab_requirements.txt (line 8)) (1.6.3)\n",
            "Requirement already satisfied: google-pasta~=0.2 in /usr/local/lib/python3.7/dist-packages (from tensorflow==2.5.0->-r colab_requirements.txt (line 8)) (0.2.0)\n",
            "Requirement already satisfied: flatbuffers~=1.12.0 in /usr/local/lib/python3.7/dist-packages (from tensorflow==2.5.0->-r colab_requirements.txt (line 8)) (1.12)\n",
            "Requirement already satisfied: gast==0.4.0 in /usr/local/lib/python3.7/dist-packages (from tensorflow==2.5.0->-r colab_requirements.txt (line 8)) (0.4.0)\n",
            "Requirement already satisfied: protobuf>=3.9.2 in /usr/local/lib/python3.7/dist-packages (from tensorflow==2.5.0->-r colab_requirements.txt (line 8)) (3.17.3)\n",
            "Requirement already satisfied: h5py~=3.1.0 in /usr/local/lib/python3.7/dist-packages (from tensorflow==2.5.0->-r colab_requirements.txt (line 8)) (3.1.0)\n",
            "Requirement already satisfied: termcolor~=1.1.0 in /usr/local/lib/python3.7/dist-packages (from tensorflow==2.5.0->-r colab_requirements.txt (line 8)) (1.1.0)\n",
            "Requirement already satisfied: keras-nightly~=2.5.0.dev in /usr/local/lib/python3.7/dist-packages (from tensorflow==2.5.0->-r colab_requirements.txt (line 8)) (2.5.0.dev2021032900)\n",
            "Requirement already satisfied: six~=1.15.0 in /usr/local/lib/python3.7/dist-packages (from tensorflow==2.5.0->-r colab_requirements.txt (line 8)) (1.15.0)\n",
            "Requirement already satisfied: typing-extensions~=3.7.4 in /usr/local/lib/python3.7/dist-packages (from tensorflow==2.5.0->-r colab_requirements.txt (line 8)) (3.7.4.3)\n",
            "Requirement already satisfied: scipy>=0.14 in /usr/local/lib/python3.7/dist-packages (from keras==2.4.3->-r colab_requirements.txt (line 9)) (1.4.1)\n",
            "Collecting threadpoolctl>=2.0.0\n",
            "  Downloading threadpoolctl-2.2.0-py3-none-any.whl (12 kB)\n",
            "Requirement already satisfied: pyparsing>=2.1.4 in /usr/local/lib/python3.7/dist-packages (from pydot==1.4.2->-r colab_requirements.txt (line 13)) (2.4.7)\n",
            "Requirement already satisfied: kiwisolver>=1.0.1 in /usr/local/lib/python3.7/dist-packages (from matplotlib==3.0.2->-r colab_requirements.txt (line 15)) (1.3.1)\n",
            "Requirement already satisfied: cycler>=0.10 in /usr/local/lib/python3.7/dist-packages (from matplotlib==3.0.2->-r colab_requirements.txt (line 15)) (0.10.0)\n",
            "Requirement already satisfied: python-dateutil>=2.1 in /usr/local/lib/python3.7/dist-packages (from matplotlib==3.0.2->-r colab_requirements.txt (line 15)) (2.8.1)\n",
            "Requirement already satisfied: pytz>=2017.2 in /usr/local/lib/python3.7/dist-packages (from pandas>=1.1.0->-r colab_requirements.txt (line 1)) (2018.9)\n",
            "Requirement already satisfied: cached-property in /usr/local/lib/python3.7/dist-packages (from h5py~=3.1.0->tensorflow==2.5.0->-r colab_requirements.txt (line 8)) (1.5.2)\n",
            "Requirement already satisfied: MarkupSafe>=0.23 in /usr/local/lib/python3.7/dist-packages (from jinja2>=2.1->jupyterlab==3.1.1->-r colab_requirements.txt (line 3)) (2.0.1)\n",
            "Requirement already satisfied: Send2Trash in /usr/local/lib/python3.7/dist-packages (from jupyter-server~=1.4->jupyterlab==3.1.1->-r colab_requirements.txt (line 3)) (1.7.1)\n",
            "Requirement already satisfied: nbformat in /usr/local/lib/python3.7/dist-packages (from jupyter-server~=1.4->jupyterlab==3.1.1->-r colab_requirements.txt (line 3)) (5.1.3)\n",
            "Collecting requests-unixsocket\n",
            "  Downloading requests_unixsocket-0.2.0-py2.py3-none-any.whl (11 kB)\n",
            "Requirement already satisfied: terminado>=0.8.3 in /usr/local/lib/python3.7/dist-packages (from jupyter-server~=1.4->jupyterlab==3.1.1->-r colab_requirements.txt (line 3)) (0.10.1)\n",
            "Collecting websocket-client\n",
            "  Downloading websocket_client-1.2.0-py2.py3-none-any.whl (52 kB)\n",
            "\u001b[K     |████████████████████████████████| 52 kB 624 kB/s \n",
            "\u001b[?25hRequirement already satisfied: nbconvert in /usr/local/lib/python3.7/dist-packages (from jupyter-server~=1.4->jupyterlab==3.1.1->-r colab_requirements.txt (line 3)) (5.6.1)\n",
            "Requirement already satisfied: traitlets>=4.2.1 in /usr/local/lib/python3.7/dist-packages (from jupyter-server~=1.4->jupyterlab==3.1.1->-r colab_requirements.txt (line 3)) (5.0.5)\n",
            "Collecting anyio<4,>=3.1.0\n",
            "  Downloading anyio-3.3.0-py3-none-any.whl (77 kB)\n",
            "\u001b[K     |████████████████████████████████| 77 kB 5.6 MB/s \n",
            "\u001b[?25hRequirement already satisfied: ipython-genutils in /usr/local/lib/python3.7/dist-packages (from jupyter-server~=1.4->jupyterlab==3.1.1->-r colab_requirements.txt (line 3)) (0.2.0)\n",
            "Requirement already satisfied: pyzmq>=17 in /usr/local/lib/python3.7/dist-packages (from jupyter-server~=1.4->jupyterlab==3.1.1->-r colab_requirements.txt (line 3)) (22.1.0)\n",
            "Requirement already satisfied: argon2-cffi in /usr/local/lib/python3.7/dist-packages (from jupyter-server~=1.4->jupyterlab==3.1.1->-r colab_requirements.txt (line 3)) (20.1.0)\n",
            "Collecting jupyter-client>=6.1.1\n",
            "  Downloading jupyter_client-6.1.12-py3-none-any.whl (112 kB)\n",
            "\u001b[K     |████████████████████████████████| 112 kB 42.9 MB/s \n",
            "\u001b[?25hRequirement already satisfied: idna>=2.8 in /usr/local/lib/python3.7/dist-packages (from anyio<4,>=3.1.0->jupyter-server~=1.4->jupyterlab==3.1.1->-r colab_requirements.txt (line 3)) (2.10)\n",
            "Collecting sniffio>=1.1\n",
            "  Downloading sniffio-1.2.0-py3-none-any.whl (10 kB)\n",
            "Collecting json5\n",
            "  Downloading json5-0.9.6-py2.py3-none-any.whl (18 kB)\n",
            "Requirement already satisfied: entrypoints>=0.2.2 in /usr/local/lib/python3.7/dist-packages (from jupyterlab-server~=2.3->jupyterlab==3.1.1->-r colab_requirements.txt (line 3)) (0.3)\n",
            "Collecting jsonschema>=3.0.1\n",
            "  Downloading jsonschema-3.2.0-py2.py3-none-any.whl (56 kB)\n",
            "\u001b[K     |████████████████████████████████| 56 kB 3.6 MB/s \n",
            "\u001b[?25hRequirement already satisfied: babel in /usr/local/lib/python3.7/dist-packages (from jupyterlab-server~=2.3->jupyterlab==3.1.1->-r colab_requirements.txt (line 3)) (2.9.1)\n",
            "Requirement already satisfied: requests in /usr/local/lib/python3.7/dist-packages (from jupyterlab-server~=2.3->jupyterlab==3.1.1->-r colab_requirements.txt (line 3)) (2.23.0)\n",
            "Requirement already satisfied: attrs>=17.4.0 in /usr/local/lib/python3.7/dist-packages (from jsonschema>=3.0.1->jupyterlab-server~=2.3->jupyterlab==3.1.1->-r colab_requirements.txt (line 3)) (21.2.0)\n",
            "Requirement already satisfied: importlib-metadata in /usr/local/lib/python3.7/dist-packages (from jsonschema>=3.0.1->jupyterlab-server~=2.3->jupyterlab==3.1.1->-r colab_requirements.txt (line 3)) (4.6.1)\n",
            "Requirement already satisfied: setuptools in /usr/local/lib/python3.7/dist-packages (from jsonschema>=3.0.1->jupyterlab-server~=2.3->jupyterlab==3.1.1->-r colab_requirements.txt (line 3)) (57.2.0)\n",
            "Requirement already satisfied: pyrsistent>=0.14.0 in /usr/local/lib/python3.7/dist-packages (from jsonschema>=3.0.1->jupyterlab-server~=2.3->jupyterlab==3.1.1->-r colab_requirements.txt (line 3)) (0.18.0)\n",
            "Requirement already satisfied: notebook<7 in /usr/local/lib/python3.7/dist-packages (from nbclassic~=0.2->jupyterlab==3.1.1->-r colab_requirements.txt (line 3)) (5.3.1)\n",
            "Requirement already satisfied: ipykernel in /usr/local/lib/python3.7/dist-packages (from notebook<7->nbclassic~=0.2->jupyterlab==3.1.1->-r colab_requirements.txt (line 3)) (4.10.1)\n",
            "Requirement already satisfied: tensorboard-data-server<0.7.0,>=0.6.0 in /usr/local/lib/python3.7/dist-packages (from tensorboard~=2.5->tensorflow==2.5.0->-r colab_requirements.txt (line 8)) (0.6.1)\n",
            "Requirement already satisfied: werkzeug>=0.11.15 in /usr/local/lib/python3.7/dist-packages (from tensorboard~=2.5->tensorflow==2.5.0->-r colab_requirements.txt (line 8)) (1.0.1)\n",
            "Requirement already satisfied: google-auth<2,>=1.6.3 in /usr/local/lib/python3.7/dist-packages (from tensorboard~=2.5->tensorflow==2.5.0->-r colab_requirements.txt (line 8)) (1.32.1)\n",
            "Requirement already satisfied: markdown>=2.6.8 in /usr/local/lib/python3.7/dist-packages (from tensorboard~=2.5->tensorflow==2.5.0->-r colab_requirements.txt (line 8)) (3.3.4)\n",
            "Requirement already satisfied: google-auth-oauthlib<0.5,>=0.4.1 in /usr/local/lib/python3.7/dist-packages (from tensorboard~=2.5->tensorflow==2.5.0->-r colab_requirements.txt (line 8)) (0.4.4)\n",
            "Requirement already satisfied: tensorboard-plugin-wit>=1.6.0 in /usr/local/lib/python3.7/dist-packages (from tensorboard~=2.5->tensorflow==2.5.0->-r colab_requirements.txt (line 8)) (1.8.0)\n",
            "Requirement already satisfied: rsa<5,>=3.1.4 in /usr/local/lib/python3.7/dist-packages (from google-auth<2,>=1.6.3->tensorboard~=2.5->tensorflow==2.5.0->-r colab_requirements.txt (line 8)) (4.7.2)\n",
            "Requirement already satisfied: cachetools<5.0,>=2.0.0 in /usr/local/lib/python3.7/dist-packages (from google-auth<2,>=1.6.3->tensorboard~=2.5->tensorflow==2.5.0->-r colab_requirements.txt (line 8)) (4.2.2)\n",
            "Requirement already satisfied: pyasn1-modules>=0.2.1 in /usr/local/lib/python3.7/dist-packages (from google-auth<2,>=1.6.3->tensorboard~=2.5->tensorflow==2.5.0->-r colab_requirements.txt (line 8)) (0.2.8)\n",
            "Requirement already satisfied: requests-oauthlib>=0.7.0 in /usr/local/lib/python3.7/dist-packages (from google-auth-oauthlib<0.5,>=0.4.1->tensorboard~=2.5->tensorflow==2.5.0->-r colab_requirements.txt (line 8)) (1.3.0)\n",
            "Requirement already satisfied: pyasn1<0.5.0,>=0.4.6 in /usr/local/lib/python3.7/dist-packages (from pyasn1-modules>=0.2.1->google-auth<2,>=1.6.3->tensorboard~=2.5->tensorflow==2.5.0->-r colab_requirements.txt (line 8)) (0.4.8)\n",
            "Requirement already satisfied: urllib3!=1.25.0,!=1.25.1,<1.26,>=1.21.1 in /usr/local/lib/python3.7/dist-packages (from requests->jupyterlab-server~=2.3->jupyterlab==3.1.1->-r colab_requirements.txt (line 3)) (1.24.3)\n",
            "Requirement already satisfied: certifi>=2017.4.17 in /usr/local/lib/python3.7/dist-packages (from requests->jupyterlab-server~=2.3->jupyterlab==3.1.1->-r colab_requirements.txt (line 3)) (2021.5.30)\n",
            "Requirement already satisfied: chardet<4,>=3.0.2 in /usr/local/lib/python3.7/dist-packages (from requests->jupyterlab-server~=2.3->jupyterlab==3.1.1->-r colab_requirements.txt (line 3)) (3.0.4)\n",
            "Requirement already satisfied: oauthlib>=3.0.0 in /usr/local/lib/python3.7/dist-packages (from requests-oauthlib>=0.7.0->google-auth-oauthlib<0.5,>=0.4.1->tensorboard~=2.5->tensorflow==2.5.0->-r colab_requirements.txt (line 8)) (3.1.1)\n",
            "Requirement already satisfied: ptyprocess in /usr/local/lib/python3.7/dist-packages (from terminado>=0.8.3->jupyter-server~=1.4->jupyterlab==3.1.1->-r colab_requirements.txt (line 3)) (0.7.0)\n",
            "Requirement already satisfied: cffi>=1.0.0 in /usr/local/lib/python3.7/dist-packages (from argon2-cffi->jupyter-server~=1.4->jupyterlab==3.1.1->-r colab_requirements.txt (line 3)) (1.14.6)\n",
            "Requirement already satisfied: pycparser in /usr/local/lib/python3.7/dist-packages (from cffi>=1.0.0->argon2-cffi->jupyter-server~=1.4->jupyterlab==3.1.1->-r colab_requirements.txt (line 3)) (2.20)\n",
            "Requirement already satisfied: zipp>=0.5 in /usr/local/lib/python3.7/dist-packages (from importlib-metadata->jsonschema>=3.0.1->jupyterlab-server~=2.3->jupyterlab==3.1.1->-r colab_requirements.txt (line 3)) (3.5.0)\n",
            "Requirement already satisfied: simplegeneric>0.8 in /usr/local/lib/python3.7/dist-packages (from ipython->jupyterlab==3.1.1->-r colab_requirements.txt (line 3)) (0.8.1)\n",
            "Requirement already satisfied: pexpect in /usr/local/lib/python3.7/dist-packages (from ipython->jupyterlab==3.1.1->-r colab_requirements.txt (line 3)) (4.8.0)\n",
            "Requirement already satisfied: decorator in /usr/local/lib/python3.7/dist-packages (from ipython->jupyterlab==3.1.1->-r colab_requirements.txt (line 3)) (4.4.2)\n",
            "Requirement already satisfied: pygments in /usr/local/lib/python3.7/dist-packages (from ipython->jupyterlab==3.1.1->-r colab_requirements.txt (line 3)) (2.6.1)\n",
            "Requirement already satisfied: prompt-toolkit<2.0.0,>=1.0.4 in /usr/local/lib/python3.7/dist-packages (from ipython->jupyterlab==3.1.1->-r colab_requirements.txt (line 3)) (1.0.18)\n",
            "Requirement already satisfied: pickleshare in /usr/local/lib/python3.7/dist-packages (from ipython->jupyterlab==3.1.1->-r colab_requirements.txt (line 3)) (0.7.5)\n",
            "Requirement already satisfied: wcwidth in /usr/local/lib/python3.7/dist-packages (from prompt-toolkit<2.0.0,>=1.0.4->ipython->jupyterlab==3.1.1->-r colab_requirements.txt (line 3)) (0.2.5)\n",
            "Requirement already satisfied: defusedxml in /usr/local/lib/python3.7/dist-packages (from nbconvert->jupyter-server~=1.4->jupyterlab==3.1.1->-r colab_requirements.txt (line 3)) (0.7.1)\n",
            "Requirement already satisfied: pandocfilters>=1.4.1 in /usr/local/lib/python3.7/dist-packages (from nbconvert->jupyter-server~=1.4->jupyterlab==3.1.1->-r colab_requirements.txt (line 3)) (1.4.3)\n",
            "Requirement already satisfied: mistune<2,>=0.8.1 in /usr/local/lib/python3.7/dist-packages (from nbconvert->jupyter-server~=1.4->jupyterlab==3.1.1->-r colab_requirements.txt (line 3)) (0.8.4)\n",
            "Requirement already satisfied: bleach in /usr/local/lib/python3.7/dist-packages (from nbconvert->jupyter-server~=1.4->jupyterlab==3.1.1->-r colab_requirements.txt (line 3)) (3.3.0)\n",
            "Requirement already satisfied: testpath in /usr/local/lib/python3.7/dist-packages (from nbconvert->jupyter-server~=1.4->jupyterlab==3.1.1->-r colab_requirements.txt (line 3)) (0.5.0)\n",
            "Requirement already satisfied: webencodings in /usr/local/lib/python3.7/dist-packages (from bleach->nbconvert->jupyter-server~=1.4->jupyterlab==3.1.1->-r colab_requirements.txt (line 3)) (0.5.1)\n",
            "Installing collected packages: tornado, jsonschema, sniffio, jupyter-client, websocket-client, requests-unixsocket, anyio, jupyter-server, json5, threadpoolctl, pyyaml, psutil, nbclassic, jupyterlab-server, tensorflow-text, scikit-learn, pydot, nltk, matplotlib, jupyterlab, jupyter-resource-usage, graphviz, demoji\n",
            "  Attempting uninstall: tornado\n",
            "    Found existing installation: tornado 5.1.1\n",
            "    Uninstalling tornado-5.1.1:\n",
            "      Successfully uninstalled tornado-5.1.1\n",
            "  Attempting uninstall: jsonschema\n",
            "    Found existing installation: jsonschema 2.6.0\n",
            "    Uninstalling jsonschema-2.6.0:\n",
            "      Successfully uninstalled jsonschema-2.6.0\n",
            "  Attempting uninstall: jupyter-client\n",
            "    Found existing installation: jupyter-client 5.3.5\n",
            "    Uninstalling jupyter-client-5.3.5:\n",
            "      Successfully uninstalled jupyter-client-5.3.5\n",
            "  Attempting uninstall: pyyaml\n",
            "    Found existing installation: PyYAML 3.13\n",
            "    Uninstalling PyYAML-3.13:\n",
            "      Successfully uninstalled PyYAML-3.13\n",
            "  Attempting uninstall: psutil\n",
            "    Found existing installation: psutil 5.4.8\n",
            "    Uninstalling psutil-5.4.8:\n",
            "      Successfully uninstalled psutil-5.4.8\n",
            "  Attempting uninstall: scikit-learn\n",
            "    Found existing installation: scikit-learn 0.22.2.post1\n",
            "    Uninstalling scikit-learn-0.22.2.post1:\n",
            "      Successfully uninstalled scikit-learn-0.22.2.post1\n",
            "  Attempting uninstall: pydot\n",
            "    Found existing installation: pydot 1.3.0\n",
            "    Uninstalling pydot-1.3.0:\n",
            "      Successfully uninstalled pydot-1.3.0\n",
            "  Attempting uninstall: nltk\n",
            "    Found existing installation: nltk 3.2.5\n",
            "    Uninstalling nltk-3.2.5:\n",
            "      Successfully uninstalled nltk-3.2.5\n",
            "  Attempting uninstall: matplotlib\n",
            "    Found existing installation: matplotlib 3.2.2\n",
            "    Uninstalling matplotlib-3.2.2:\n",
            "      Successfully uninstalled matplotlib-3.2.2\n",
            "  Attempting uninstall: graphviz\n",
            "    Found existing installation: graphviz 0.10.1\n",
            "    Uninstalling graphviz-0.10.1:\n",
            "      Successfully uninstalled graphviz-0.10.1\n",
            "\u001b[31mERROR: pip's dependency resolver does not currently take into account all the packages that are installed. This behaviour is the source of the following dependency conflicts.\n",
            "plotnine 0.6.0 requires matplotlib>=3.1.1, but you have matplotlib 3.0.2 which is incompatible.\n",
            "mizani 0.6.0 requires matplotlib>=3.1.1, but you have matplotlib 3.0.2 which is incompatible.\n",
            "google-colab 1.0.0 requires tornado~=5.1.0; python_version >= \"3.0\", but you have tornado 6.1 which is incompatible.\n",
            "albumentations 0.1.12 requires imgaug<0.2.7,>=0.2.5, but you have imgaug 0.2.9 which is incompatible.\u001b[0m\n",
            "Successfully installed anyio-3.3.0 demoji-1.0.0 graphviz-0.17 json5-0.9.6 jsonschema-3.2.0 jupyter-client-6.1.12 jupyter-resource-usage-0.6.0 jupyter-server-1.10.2 jupyterlab-3.1.1 jupyterlab-server-2.7.0 matplotlib-3.0.2 nbclassic-0.3.1 nltk-3.6.1 psutil-5.8.0 pydot-1.4.2 pyyaml-5.4.1 requests-unixsocket-0.2.0 scikit-learn-0.24.2 sniffio-1.2.0 tensorflow-text-2.5.0 threadpoolctl-2.2.0 tornado-6.1 websocket-client-1.2.0\n"
          ],
          "name": "stdout"
        },
        {
          "output_type": "display_data",
          "data": {
            "application/vnd.colab-display-data+json": {
              "pip_warning": {
                "packages": [
                  "jupyter_client",
                  "matplotlib",
                  "mpl_toolkits",
                  "psutil",
                  "tornado"
                ]
              }
            }
          },
          "metadata": {
            "tags": []
          }
        }
      ]
    },
    {
      "cell_type": "markdown",
      "metadata": {
        "id": "uM-Hv3wEufUe"
      },
      "source": [
        "Below is some sample data including the original and processed messages.\n",
        "\n",
        "There is a seprate module implemented in utils.text_preprocessing which takes a piece of text and perform the following operations:\n",
        "\n",
        "- converts text to lowercase\n",
        "- remove manual characters i.e. '\\n' etc.\n",
        "- removes emojis\n",
        "- remove punctuations\n",
        "- remove other manual stopwords i.e hey, hi etc.\n",
        "\n",
        "The above is an initial implementation of text pre-processing and one can build on this framework to add additional processing items/steps as there are other items that can be removed i.e. currencies, coded account details etc."
      ]
    },
    {
      "cell_type": "code",
      "metadata": {
        "colab": {
          "base_uri": "https://localhost:8080/"
        },
        "id": "VvwySB4ttgeP",
        "outputId": "774f4513-3b1d-481a-af32-bb09b7a23636"
      },
      "source": [
        "#sample data\n",
        "from transformer import Transformer\n",
        "\n",
        "t= Transformer()\n",
        "queries = t.read_and_clean_data()\n",
        "queries[0:10]"
      ],
      "execution_count": 3,
      "outputs": [
        {
          "output_type": "stream",
          "text": [
            "[nltk_data] Downloading package punkt to /root/nltk_data...\n",
            "[nltk_data]   Package punkt is already up-to-date!\n"
          ],
          "name": "stderr"
        },
        {
          "output_type": "execute_result",
          "data": {
            "text/plain": [
              "[{'original_message': '<p>I was unable to complete an eBay transaction with my card. I tried twice. First failure so far!</p>',\n",
              "  'processed_message': 'i was unable to complete an ebay transaction with my card i tried twice first failure so far',\n",
              "  'tag1': 'APP - Outage',\n",
              "  'tag2': None,\n",
              "  'tag3': None},\n",
              " {'original_message': \"<p>Hi, I still haven't received my mondo card and it was expected on Monday.  I was told to contact you by the end of the week if it had not arrived, thanks!</p>\",\n",
              "  'processed_message': 'i still havent received my mondo card and it was expected on monday i was told to contact you by the end of the week if it had not arrived thanks',\n",
              "  'tag1': 'CARD - Not Arrived',\n",
              "  'tag2': None,\n",
              "  'tag3': None},\n",
              " {'original_message': \"<p>Hey, I'm liking the new app design but ever since this last update, I have to re-sign into the app (via the email magic link) practically every time I launch it. It's getting a little inconvenient!</p>\",\n",
              "  'processed_message': 'im liking the new app design but ever since this last update i have to resign into the app via the email magic link practically every time i launch it its getting a little inconvenient',\n",
              "  'tag1': 'APP - iOS Bug (known)',\n",
              "  'tag2': None,\n",
              "  'tag3': None},\n",
              " {'original_message': '<p>how  come i cannot top up more than £100?</p>',\n",
              "  'processed_message': 'how come i can not top up more than £100',\n",
              "  'tag1': 'KYC - limit driven',\n",
              "  'tag2': None,\n",
              "  'tag3': None},\n",
              " {'original_message': \"<p>I don't recall this transaction</p>\",\n",
              "  'processed_message': 'i dont recall this transaction',\n",
              "  'tag1': 'APP - Unrecognized Transaction',\n",
              "  'tag2': None,\n",
              "  'tag3': None},\n",
              " {'original_message': \"<p>Hi - I don't recognise the transaction - appears to have been made whilst I was in the air back from Japan ?</p>\",\n",
              "  'processed_message': 'i dont recognise the transaction appears to have been made whilst i was in the air back from japan',\n",
              "  'tag1': 'APP - Unrecognized Transaction',\n",
              "  'tag2': None,\n",
              "  'tag3': None},\n",
              " {'original_message': '<p>Hey</p>',\n",
              "  'processed_message': '',\n",
              "  'tag1': 'TOP UP - Bank transfer',\n",
              "  'tag2': None,\n",
              "  'tag3': None},\n",
              " {'original_message': \"<p>Hey guys, I'm wondering if I haven't passed the checks for the full limits on the card? :) I've seen the talk about it on Slack. Any advice is appreciated, thanks!</p>\",\n",
              "  'processed_message': 'guys im wondering if i havent passed the checks for the full limits on the card ive seen the talk about it on slack any advice is appreciated thanks',\n",
              "  'tag1': 'KYC - limit driven',\n",
              "  'tag2': None,\n",
              "  'tag3': None},\n",
              " {'original_message': '<p>Hello</p>',\n",
              "  'processed_message': 'hello',\n",
              "  'tag1': 'CARD - Not Arrived',\n",
              "  'tag2': None,\n",
              "  'tag3': None},\n",
              " {'original_message': \"<p>I'm running the latest beta of iOS 10, on an iPhone 6s Plus, with the latest TestFlight build, and the widget enabled. </p>\\n\\n<p>The logouts seemed to be partially fixed, but I just experienced one, and I seem to remember the forum post asking us to let you know if it happened. </p>\\n\\n<p>Unfortunately - I have absolutely no idea why.</p>\",\n",
              "  'processed_message': 'im running the latest beta of ios 10 on an iphone 6s plus with the latest testflight build and the widget enabled the logouts seemed to be partially fixed but i just experienced one and i seem to remember the forum post asking us to let you know if it happened unfortunately i have absolutely no idea why',\n",
              "  'tag1': 'APP - iOS Bug (known)',\n",
              "  'tag2': None,\n",
              "  'tag3': None}]"
            ]
          },
          "metadata": {
            "tags": []
          },
          "execution_count": 3
        }
      ]
    },
    {
      "cell_type": "code",
      "metadata": {
        "colab": {
          "base_uri": "https://localhost:8080/"
        },
        "id": "Hm0njdQvtjbK",
        "outputId": "8799235a-562a-4635-b8d0-3330cb9d0942"
      },
      "source": [
        "#total sample in this datset\n",
        "len(queries)"
      ],
      "execution_count": 4,
      "outputs": [
        {
          "output_type": "execute_result",
          "data": {
            "text/plain": [
              "6869"
            ]
          },
          "metadata": {
            "tags": []
          },
          "execution_count": 4
        }
      ]
    },
    {
      "cell_type": "code",
      "metadata": {
        "colab": {
          "base_uri": "https://localhost:8080/",
          "height": 448
        },
        "id": "9nmVyAgitl8V",
        "outputId": "01a71a0a-8eb1-4ad2-847c-146ea146ec83"
      },
      "source": [
        "#Target distribution- The below indicates an imbalanced dataset and further steps can be taken to dela with it i.e \n",
        "#oversampling etc.\n",
        "from matplotlib import pyplot as plt\n",
        "freq={}\n",
        "for i in queries:\n",
        "    freq[i['tag1']] = freq.get(i['tag1'],0) + 1\n",
        "\n",
        "plt.xticks(rotation=90)\n",
        "plt.title(\"tag1 frequency count\")\n",
        "plt.ylabel(\"frequency\")\n",
        "plt.bar(freq.keys(), freq.values(), width=.5, color='b')"
      ],
      "execution_count": 5,
      "outputs": [
        {
          "output_type": "execute_result",
          "data": {
            "text/plain": [
              "<BarContainer object of 12 artists>"
            ]
          },
          "metadata": {
            "tags": []
          },
          "execution_count": 5
        },
        {
          "output_type": "display_data",
          "data": {
            "image/png": "[encoded data removed]",
            "text/plain": [
              "<Figure size 432x288 with 1 Axes>"
            ]
          },
          "metadata": {
            "tags": [],
            "needs_background": "light"
          }
        }
      ]
    },
    {
      "cell_type": "markdown",
      "metadata": {
        "id": "JMHCYf4ptpp8"
      },
      "source": [
        "##Sampling \n",
        "Total sample is divided into training, validation and test set of .8,.1,.1. The dataset is quiet small. However, this is to showcase the methodology used.\n",
        "\n",
        "##Model \n",
        "We have used a pre-trained Bert model and fine-tuned it after adding a dropout and dense layer in the end with 12 classes (one for each of the above class). This is a multi-class model with 12 classes. Further details can be found in the config file as well as in 'model' folder.\n",
        "\n",
        "The model training takes approx 25 mins per epoch on a single TPU colab notebook. Therefore its only been trained on a small no of epochs (further info on model parameters can be found in config file).\n",
        "\n",
        "##Model Loss \n",
        "Categorical crossentropy\n",
        "\n",
        "##Model Training and Evaluation Metric \n",
        "Categorical Accuracy- We are computing the overall accuracy here. However, this can be further enhanced by looking at precision/recall values per class.\n",
        "\n",
        "Another way to evaluate the model is by looking at precision/recall by top k predictions."
      ]
    },
    {
      "cell_type": "markdown",
      "metadata": {
        "id": "2ykUbe1tsNPz"
      },
      "source": [
        "# New section"
      ]
    },
    {
      "cell_type": "code",
      "metadata": {
        "colab": {
          "base_uri": "https://localhost:8080/"
        },
        "id": "C-DDa-c1uS5Z",
        "outputId": "5013c488-a251-459f-fb0f-9cb757e2922c"
      },
      "source": [
        "#Training and storing the model\n",
        "import app\n",
        "accuracy = app.model_fit_predict()"
      ],
      "execution_count": 3,
      "outputs": [
        {
          "output_type": "stream",
          "text": [
            "Epoch 1/5\n",
            "170/170 [==============================] - 1434s 8s/step - loss: 2.4461 - categorical_accuracy: 0.2420 - val_loss: 2.2423 - val_categorical_accuracy: 0.2755\n",
            "Epoch 2/5\n",
            "170/170 [==============================] - 1454s 9s/step - loss: 1.9586 - categorical_accuracy: 0.3378 - val_loss: 1.8490 - val_categorical_accuracy: 0.3545\n",
            "Epoch 3/5\n",
            "170/170 [==============================] - 1410s 8s/step - loss: 1.8952 - categorical_accuracy: 0.3463 - val_loss: 1.8138 - val_categorical_accuracy: 0.3816\n",
            "Epoch 4/5\n",
            "170/170 [==============================] - 1443s 8s/step - loss: 1.8920 - categorical_accuracy: 0.3542 - val_loss: 1.8236 - val_categorical_accuracy: 0.3816\n",
            "Epoch 5/5\n",
            "170/170 [==============================] - 1485s 9s/step - loss: 1.8595 - categorical_accuracy: 0.3609 - val_loss: 1.8562 - val_categorical_accuracy: 0.3053\n"
          ],
          "name": "stdout"
        },
        {
          "output_type": "stream",
          "text": [
            "WARNING:absl:Found untraced functions such as restored_function_body, restored_function_body, restored_function_body, restored_function_body, restored_function_body while saving (showing 5 of 310). These functions will not be directly callable after loading.\n"
          ],
          "name": "stderr"
        },
        {
          "output_type": "stream",
          "text": [
            "INFO:tensorflow:Assets written to: ./model_files/assets\n"
          ],
          "name": "stdout"
        },
        {
          "output_type": "stream",
          "text": [
            "INFO:tensorflow:Assets written to: ./model_files/assets\n"
          ],
          "name": "stderr"
        }
      ]
    },
    {
      "cell_type": "code",
      "metadata": {
        "id": "alVR9GsIzn5v",
        "colab": {
          "base_uri": "https://localhost:8080/"
        },
        "outputId": "c10505b0-5198-414d-d3ca-feafc236e98d"
      },
      "source": [
        "##Overall Categorical accuracy\n",
        "# The below perform inference on test datset and provides an overall accuracy score. The overall accuracy score is\n",
        "#low and this can be due to a couple of factors i.e. small dataset size etc. Also potential change in the learning rate\n",
        "#and batch size can also help with performance improvements.\n",
        "\n",
        "print(accuracy)"
      ],
      "execution_count": 4,
      "outputs": [
        {
          "output_type": "stream",
          "text": [
            "0.30567685\n"
          ],
          "name": "stdout"
        }
      ]
    }
  ]
}